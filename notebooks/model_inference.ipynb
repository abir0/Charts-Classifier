{
  "nbformat": 4,
  "nbformat_minor": 0,
  "metadata": {
    "colab": {
      "provenance": []
    },
    "kernelspec": {
      "name": "python3",
      "display_name": "Python 3"
    },
    "language_info": {
      "name": "python"
    }
  },
  "cells": [
    {
      "cell_type": "markdown",
      "source": [
        "### Setup"
      ],
      "metadata": {
        "id": "b8js_d9HTPXJ"
      }
    },
    {
      "cell_type": "code",
      "execution_count": null,
      "metadata": {
        "id": "O3d0vuzYTDZi"
      },
      "outputs": [],
      "source": [
        "!pip install -Uqq fastai"
      ]
    },
    {
      "cell_type": "code",
      "source": [
        "from fastai import *\n",
        "from fastai.vision.all import *"
      ],
      "metadata": {
        "id": "OAqQi8zeTVGP"
      },
      "execution_count": null,
      "outputs": []
    },
    {
      "cell_type": "code",
      "source": [
        "from google.colab import drive\n",
        "drive.mount(\"/content/drive\")"
      ],
      "metadata": {
        "id": "JqFv1Ek6TVcj",
        "colab": {
          "base_uri": "https://localhost:8080/"
        },
        "outputId": "f80bf36a-806d-4f95-ae8c-5ac3bb595262"
      },
      "execution_count": null,
      "outputs": [
        {
          "output_type": "stream",
          "name": "stdout",
          "text": [
            "Mounted at /content/drive\n"
          ]
        }
      ]
    },
    {
      "cell_type": "code",
      "source": [
        "%cd /content/drive/MyDrive/Charts-Classifier"
      ],
      "metadata": {
        "id": "K1MDBgJqTXaA",
        "colab": {
          "base_uri": "https://localhost:8080/"
        },
        "outputId": "d8c2522d-2bf1-4d39-988b-1a3e0b709f36"
      },
      "execution_count": null,
      "outputs": [
        {
          "output_type": "stream",
          "name": "stdout",
          "text": [
            "/content/drive/MyDrive/Charts-Classifier\n"
          ]
        }
      ]
    },
    {
      "cell_type": "code",
      "source": [
        "VERSION = \"3\""
      ],
      "metadata": {
        "id": "oUhqHNM6Th_1"
      },
      "execution_count": null,
      "outputs": []
    },
    {
      "cell_type": "code",
      "source": [
        "data_path = Path(f\"data_v{VERSION}\")\n",
        "model_path = Path(\"models\") / f\"charts_classifier_v{VERSION}.pkl\"\n",
        "img_path = Path(\"test_images\")"
      ],
      "metadata": {
        "id": "SOa4iY2YTiG3"
      },
      "execution_count": null,
      "outputs": []
    },
    {
      "cell_type": "code",
      "source": [
        "class PILImageRGB(PILImage): _show_args,_open_args = {'cmap':'Viridis'},{'mode': 'RGB'}"
      ],
      "metadata": {
        "id": "iv0YYelANUgZ"
      },
      "execution_count": null,
      "outputs": []
    },
    {
      "cell_type": "code",
      "source": [
        "model = load_learner(model_path)"
      ],
      "metadata": {
        "id": "Q5vJQmHTTiXY"
      },
      "execution_count": null,
      "outputs": []
    },
    {
      "cell_type": "markdown",
      "source": [
        "### Inference"
      ],
      "metadata": {
        "id": "uZOXVzUSU2Up"
      }
    },
    {
      "cell_type": "code",
      "source": [
        "img = Image.open(img_path / \"unlabeled_0.png\")\n",
        "img.to_thumb(128, 128)"
      ],
      "metadata": {
        "id": "yaMnnOylU3yE",
        "colab": {
          "base_uri": "https://localhost:8080/",
          "height": 110
        },
        "outputId": "d84b559c-b744-40c0-b042-445aba35e8d3"
      },
      "execution_count": null,
      "outputs": [
        {
          "output_type": "execute_result",
          "data": {
            "text/plain": [
              "<PIL.Image.Image image mode=RGBA size=128x93>"
            ],
            "image/png": "[encoded data removed]"
          },
          "metadata": {},
          "execution_count": 9
        }
      ]
    },
    {
      "cell_type": "code",
      "source": [
        "model.predict(img_path / \"unlabeled_0.png\")"
      ],
      "metadata": {
        "id": "JwCT_2gEVQDy",
        "colab": {
          "base_uri": "https://localhost:8080/",
          "height": 139
        },
        "outputId": "e6465847-6cf0-41ff-fefd-eec387ac4bb2"
      },
      "execution_count": null,
      "outputs": [
        {
          "output_type": "display_data",
          "data": {
            "text/plain": [
              "<IPython.core.display.HTML object>"
            ],
            "text/html": [
              "\n",
              "<style>\n",
              "    /* Turns off some styling */\n",
              "    progress {\n",
              "        /* gets rid of default border in Firefox and Opera. */\n",
              "        border: none;\n",
              "        /* Needs to be in here for Safari polyfill so background images work as expected. */\n",
              "        background-size: auto;\n",
              "    }\n",
              "    progress:not([value]), progress:not([value])::-webkit-progress-bar {\n",
              "        background: repeating-linear-gradient(45deg, #7e7e7e, #7e7e7e 10px, #5c5c5c 10px, #5c5c5c 20px);\n",
              "    }\n",
              "    .progress-bar-interrupted, .progress-bar-interrupted::-webkit-progress-bar {\n",
              "        background: #F44336;\n",
              "    }\n",
              "</style>\n"
            ]
          },
          "metadata": {}
        },
        {
          "output_type": "display_data",
          "data": {
            "text/plain": [
              "<IPython.core.display.HTML object>"
            ],
            "text/html": []
          },
          "metadata": {}
        },
        {
          "output_type": "execute_result",
          "data": {
            "text/plain": [
              "('boxplot',\n",
              " tensor(4),\n",
              " tensor([5.7525e-05, 7.8027e-03, 9.4878e-03, 3.1897e-03, 7.8584e-01, 1.3604e-03,\n",
              "         5.6554e-04, 2.3243e-04, 6.6172e-03, 4.1071e-03, 2.5482e-04, 7.1631e-02,\n",
              "         2.7901e-03, 7.6456e-02, 2.0133e-03, 1.9585e-03, 5.9587e-04, 3.0259e-04,\n",
              "         4.3299e-04, 7.7219e-03, 4.8065e-03, 6.8053e-04, 3.1073e-03, 7.9186e-04,\n",
              "         4.2155e-04, 6.9011e-04, 5.7726e-03, 3.1040e-04]))"
            ]
          },
          "metadata": {},
          "execution_count": 10
        }
      ]
    },
    {
      "cell_type": "code",
      "source": [
        "predict_image(img_path / \"unlabeled_5.png\")"
      ],
      "metadata": {
        "colab": {
          "base_uri": "https://localhost:8080/",
          "height": 503
        },
        "id": "LOoXMroJ3qcB",
        "outputId": "8018a8fc-bbd9-4874-a2a6-4369dea30640"
      },
      "execution_count": null,
      "outputs": [
        {
          "output_type": "display_data",
          "data": {
            "text/plain": [
              "<IPython.core.display.HTML object>"
            ],
            "text/html": [
              "\n",
              "<style>\n",
              "    /* Turns off some styling */\n",
              "    progress {\n",
              "        /* gets rid of default border in Firefox and Opera. */\n",
              "        border: none;\n",
              "        /* Needs to be in here for Safari polyfill so background images work as expected. */\n",
              "        background-size: auto;\n",
              "    }\n",
              "    progress:not([value]), progress:not([value])::-webkit-progress-bar {\n",
              "        background: repeating-linear-gradient(45deg, #7e7e7e, #7e7e7e 10px, #5c5c5c 10px, #5c5c5c 20px);\n",
              "    }\n",
              "    .progress-bar-interrupted, .progress-bar-interrupted::-webkit-progress-bar {\n",
              "        background: #F44336;\n",
              "    }\n",
              "</style>\n"
            ]
          },
          "metadata": {}
        },
        {
          "output_type": "display_data",
          "data": {
            "text/plain": [
              "<IPython.core.display.HTML object>"
            ],
            "text/html": []
          },
          "metadata": {}
        },
        {
          "output_type": "execute_result",
          "data": {
            "text/plain": [
              "{'arc diagram': 0.006694437935948372,\n",
              " 'area chart': 0.004792089574038982,\n",
              " 'bar chart': 0.00031214571208693087,\n",
              " 'block diagram': 0.00036256478051654994,\n",
              " 'boxplot': 0.0017751017585396767,\n",
              " 'bubble chart': 0.012651260942220688,\n",
              " 'cartogram': 0.000368763372534886,\n",
              " 'control chart': 0.0034803946036845446,\n",
              " 'dendrogram': 0.008081232197582722,\n",
              " 'flowchart': 0.001488537061959505,\n",
              " 'funnel chart': 0.00014499797543976456,\n",
              " 'gantt chart': 0.024294579401612282,\n",
              " 'heatmap': 0.002050955081358552,\n",
              " 'histogram': 0.0005344690289348364,\n",
              " 'line graph': 0.0003705146664287895,\n",
              " 'matrix diagram': 0.0005859984667040408,\n",
              " 'mind map': 0.0054766274988651276,\n",
              " 'network graph': 0.0014439536025747657,\n",
              " 'neural network diagram': 0.0008481395780108869,\n",
              " 'organogram': 0.007147584576159716,\n",
              " 'phase diagram': 0.003849821165204048,\n",
              " 'pie chart': 0.003393713617697358,\n",
              " 'radar chart': 0.0030104955658316612,\n",
              " 'scatter plot': 0.008759425021708012,\n",
              " 'snakey chart': 0.00038011520518921316,\n",
              " 'surface plot': 0.00014282324991654605,\n",
              " 'timeline chart': 0.8939203023910522,\n",
              " 'venn diagram': 0.0036389236338436604}"
            ]
          },
          "metadata": {},
          "execution_count": 29
        }
      ]
    },
    {
      "cell_type": "code",
      "source": [
        "img = Image.open(img_path / \"unlabeled_1.png\")\n",
        "img.to_thumb(128, 128)"
      ],
      "metadata": {
        "id": "9bGiWoybwru7",
        "colab": {
          "base_uri": "https://localhost:8080/",
          "height": 95
        },
        "outputId": "75e34b45-3ce2-4b96-a43f-ed311ac49542"
      },
      "execution_count": null,
      "outputs": [
        {
          "output_type": "execute_result",
          "data": {
            "text/plain": [
              "<PIL.Image.Image image mode=LA size=128x78>"
            ],
            "image/png": "[encoded data removed]"
          },
          "metadata": {},
          "execution_count": 52
        }
      ]
    },
    {
      "cell_type": "code",
      "source": [
        "model.predict(img_path / \"unlabeled_1.png\")"
      ],
      "metadata": {
        "id": "IBDOM-2wwt0G",
        "colab": {
          "base_uri": "https://localhost:8080/",
          "height": 139
        },
        "outputId": "075c5143-737b-45de-f942-24e0a469fd3e"
      },
      "execution_count": null,
      "outputs": [
        {
          "output_type": "display_data",
          "data": {
            "text/plain": [
              "<IPython.core.display.HTML object>"
            ],
            "text/html": [
              "\n",
              "<style>\n",
              "    /* Turns off some styling */\n",
              "    progress {\n",
              "        /* gets rid of default border in Firefox and Opera. */\n",
              "        border: none;\n",
              "        /* Needs to be in here for Safari polyfill so background images work as expected. */\n",
              "        background-size: auto;\n",
              "    }\n",
              "    progress:not([value]), progress:not([value])::-webkit-progress-bar {\n",
              "        background: repeating-linear-gradient(45deg, #7e7e7e, #7e7e7e 10px, #5c5c5c 10px, #5c5c5c 20px);\n",
              "    }\n",
              "    .progress-bar-interrupted, .progress-bar-interrupted::-webkit-progress-bar {\n",
              "        background: #F44336;\n",
              "    }\n",
              "</style>\n"
            ]
          },
          "metadata": {}
        },
        {
          "output_type": "display_data",
          "data": {
            "text/plain": [
              "<IPython.core.display.HTML object>"
            ],
            "text/html": []
          },
          "metadata": {}
        },
        {
          "output_type": "execute_result",
          "data": {
            "text/plain": [
              "('line graph',\n",
              " tensor(14),\n",
              " tensor([1.8289e-02, 8.7589e-04, 1.8569e-03, 5.1141e-05, 5.9527e-04, 6.2484e-06,\n",
              "         2.4971e-05, 5.7908e-02, 4.3466e-03, 8.7213e-05, 4.5185e-05, 9.2291e-06,\n",
              "         3.5986e-05, 4.9384e-05, 8.6406e-01, 1.0366e-03, 2.6544e-04, 3.3632e-02,\n",
              "         6.5040e-04, 3.2253e-05, 2.9282e-04, 1.0589e-05, 1.9473e-03, 1.1819e-02,\n",
              "         8.0243e-06, 1.3597e-03, 6.9990e-04, 8.4401e-06]))"
            ]
          },
          "metadata": {},
          "execution_count": 53
        }
      ]
    },
    {
      "cell_type": "code",
      "source": [
        "img = Image.open(img_path / \"unlabeled_2.jpg\")\n",
        "img.to_thumb(128, 128)"
      ],
      "metadata": {
        "id": "vN3pyscDw0TO",
        "colab": {
          "base_uri": "https://localhost:8080/",
          "height": 108
        },
        "outputId": "e828c2a0-2545-4a9a-9eab-535c1d8153b4"
      },
      "execution_count": null,
      "outputs": [
        {
          "output_type": "execute_result",
          "data": {
            "text/plain": [
              "<PIL.Image.Image image mode=RGB size=128x91>"
            ],
            "image/png": "[encoded data removed]"
          },
          "metadata": {},
          "execution_count": 54
        }
      ]
    },
    {
      "cell_type": "code",
      "source": [
        "model.predict(img_path / \"unlabeled_2.jpg\")"
      ],
      "metadata": {
        "id": "N_oiyJjqw0TO",
        "colab": {
          "base_uri": "https://localhost:8080/",
          "height": 139
        },
        "outputId": "76a65c58-a144-4cb3-e1d6-a2da29948bb0"
      },
      "execution_count": null,
      "outputs": [
        {
          "output_type": "display_data",
          "data": {
            "text/plain": [
              "<IPython.core.display.HTML object>"
            ],
            "text/html": [
              "\n",
              "<style>\n",
              "    /* Turns off some styling */\n",
              "    progress {\n",
              "        /* gets rid of default border in Firefox and Opera. */\n",
              "        border: none;\n",
              "        /* Needs to be in here for Safari polyfill so background images work as expected. */\n",
              "        background-size: auto;\n",
              "    }\n",
              "    progress:not([value]), progress:not([value])::-webkit-progress-bar {\n",
              "        background: repeating-linear-gradient(45deg, #7e7e7e, #7e7e7e 10px, #5c5c5c 10px, #5c5c5c 20px);\n",
              "    }\n",
              "    .progress-bar-interrupted, .progress-bar-interrupted::-webkit-progress-bar {\n",
              "        background: #F44336;\n",
              "    }\n",
              "</style>\n"
            ]
          },
          "metadata": {}
        },
        {
          "output_type": "display_data",
          "data": {
            "text/plain": [
              "<IPython.core.display.HTML object>"
            ],
            "text/html": []
          },
          "metadata": {}
        },
        {
          "output_type": "execute_result",
          "data": {
            "text/plain": [
              "('mind map',\n",
              " tensor(16),\n",
              " tensor([1.0246e-04, 4.8166e-11, 5.1370e-10, 5.3645e-09, 2.1571e-09, 7.5022e-08,\n",
              "         2.6800e-07, 4.3034e-11, 1.2139e-08, 1.0373e-06, 1.4561e-09, 5.9480e-10,\n",
              "         2.1772e-09, 4.3054e-10, 4.2604e-09, 1.6674e-09, 9.9988e-01, 6.2787e-06,\n",
              "         7.2879e-07, 3.6554e-07, 5.8457e-09, 3.0047e-08, 7.4582e-07, 1.4850e-09,\n",
              "         1.6277e-06, 1.1844e-09, 2.1288e-07, 3.7893e-06]))"
            ]
          },
          "metadata": {},
          "execution_count": 55
        }
      ]
    },
    {
      "cell_type": "code",
      "source": [
        "img = Image.open(img_path / \"unlabeled_3.jpg\")\n",
        "img.to_thumb(128, 128)"
      ],
      "metadata": {
        "id": "nlt8VdIow0om",
        "colab": {
          "base_uri": "https://localhost:8080/",
          "height": 95
        },
        "outputId": "6d3ad564-3431-479a-ba37-7ca2fd337a04"
      },
      "execution_count": null,
      "outputs": [
        {
          "output_type": "execute_result",
          "data": {
            "text/plain": [
              "<PIL.Image.Image image mode=RGB size=128x78>"
            ],
            "image/png": "[encoded data removed]"
          },
          "metadata": {},
          "execution_count": 56
        }
      ]
    },
    {
      "cell_type": "code",
      "source": [
        "model.predict(img_path / \"unlabeled_3.jpg\")"
      ],
      "metadata": {
        "id": "2Uabl_9Mw0on",
        "colab": {
          "base_uri": "https://localhost:8080/",
          "height": 139
        },
        "outputId": "e9b25966-51cf-4f42-d996-6241f2d83ad6"
      },
      "execution_count": null,
      "outputs": [
        {
          "output_type": "display_data",
          "data": {
            "text/plain": [
              "<IPython.core.display.HTML object>"
            ],
            "text/html": [
              "\n",
              "<style>\n",
              "    /* Turns off some styling */\n",
              "    progress {\n",
              "        /* gets rid of default border in Firefox and Opera. */\n",
              "        border: none;\n",
              "        /* Needs to be in here for Safari polyfill so background images work as expected. */\n",
              "        background-size: auto;\n",
              "    }\n",
              "    progress:not([value]), progress:not([value])::-webkit-progress-bar {\n",
              "        background: repeating-linear-gradient(45deg, #7e7e7e, #7e7e7e 10px, #5c5c5c 10px, #5c5c5c 20px);\n",
              "    }\n",
              "    .progress-bar-interrupted, .progress-bar-interrupted::-webkit-progress-bar {\n",
              "        background: #F44336;\n",
              "    }\n",
              "</style>\n"
            ]
          },
          "metadata": {}
        },
        {
          "output_type": "display_data",
          "data": {
            "text/plain": [
              "<IPython.core.display.HTML object>"
            ],
            "text/html": []
          },
          "metadata": {}
        },
        {
          "output_type": "execute_result",
          "data": {
            "text/plain": [
              "('neural network diagram',\n",
              " tensor(18),\n",
              " tensor([2.3157e-03, 3.4427e-06, 1.1149e-05, 1.9065e-04, 1.5983e-04, 2.7241e-04,\n",
              "         1.2737e-02, 1.7685e-03, 1.5752e-04, 8.9056e-04, 3.9695e-06, 2.7760e-05,\n",
              "         1.4495e-04, 6.0087e-06, 8.0553e-03, 1.3566e-04, 2.7727e-05, 1.0197e-01,\n",
              "         7.2903e-01, 1.0808e-05, 1.4839e-05, 2.3151e-04, 1.2051e-01, 1.8781e-04,\n",
              "         1.1665e-05, 2.0661e-02, 1.0689e-05, 4.5625e-04]))"
            ]
          },
          "metadata": {},
          "execution_count": 57
        }
      ]
    },
    {
      "cell_type": "code",
      "source": [
        "img = Image.open(img_path / \"unlabeled_4.png\")\n",
        "img.to_thumb(128, 128)"
      ],
      "metadata": {
        "colab": {
          "base_uri": "https://localhost:8080/",
          "height": 102
        },
        "id": "agZu2FTmNk7n",
        "outputId": "1cb6dc7a-9e40-4f0e-e99d-9d60dd2123fd"
      },
      "execution_count": null,
      "outputs": [
        {
          "output_type": "execute_result",
          "data": {
            "text/plain": [
              "<PIL.Image.Image image mode=P size=128x85>"
            ],
            "image/png": "[encoded data removed]"
          },
          "metadata": {},
          "execution_count": 58
        }
      ]
    },
    {
      "cell_type": "code",
      "source": [
        "model.predict(img_path / \"unlabeled_4.png\")"
      ],
      "metadata": {
        "colab": {
          "base_uri": "https://localhost:8080/",
          "height": 139
        },
        "id": "NTBi47bSNpBv",
        "outputId": "88686e37-887f-498c-e6da-68a0138e93f6"
      },
      "execution_count": null,
      "outputs": [
        {
          "output_type": "display_data",
          "data": {
            "text/plain": [
              "<IPython.core.display.HTML object>"
            ],
            "text/html": [
              "\n",
              "<style>\n",
              "    /* Turns off some styling */\n",
              "    progress {\n",
              "        /* gets rid of default border in Firefox and Opera. */\n",
              "        border: none;\n",
              "        /* Needs to be in here for Safari polyfill so background images work as expected. */\n",
              "        background-size: auto;\n",
              "    }\n",
              "    progress:not([value]), progress:not([value])::-webkit-progress-bar {\n",
              "        background: repeating-linear-gradient(45deg, #7e7e7e, #7e7e7e 10px, #5c5c5c 10px, #5c5c5c 20px);\n",
              "    }\n",
              "    .progress-bar-interrupted, .progress-bar-interrupted::-webkit-progress-bar {\n",
              "        background: #F44336;\n",
              "    }\n",
              "</style>\n"
            ]
          },
          "metadata": {}
        },
        {
          "output_type": "display_data",
          "data": {
            "text/plain": [
              "<IPython.core.display.HTML object>"
            ],
            "text/html": []
          },
          "metadata": {}
        },
        {
          "output_type": "execute_result",
          "data": {
            "text/plain": [
              "('scatter plot',\n",
              " tensor(23),\n",
              " tensor([1.0761e-06, 1.0421e-05, 2.0001e-05, 6.2293e-07, 1.0369e-05, 2.3807e-04,\n",
              "         3.0870e-07, 5.4357e-05, 4.6791e-06, 8.7385e-07, 2.2937e-06, 8.3845e-06,\n",
              "         9.6391e-06, 1.1523e-04, 1.6800e-05, 9.1207e-04, 1.8071e-07, 1.2974e-04,\n",
              "         1.5623e-05, 5.4067e-08, 6.6416e-06, 4.5045e-07, 8.6597e-07, 9.9840e-01,\n",
              "         6.9306e-07, 2.4943e-05, 1.8215e-05, 6.8891e-07]))"
            ]
          },
          "metadata": {},
          "execution_count": 59
        }
      ]
    },
    {
      "cell_type": "code",
      "source": [
        "img = Image.open(img_path / \"unlabeled_5.png\")\n",
        "img.to_thumb(128, 128)"
      ],
      "metadata": {
        "colab": {
          "base_uri": "https://localhost:8080/",
          "height": 79
        },
        "id": "esnZMvecNvam",
        "outputId": "e19848b0-3861-4e87-9c08-98f2eb5fee96"
      },
      "execution_count": null,
      "outputs": [
        {
          "output_type": "execute_result",
          "data": {
            "text/plain": [
              "<PIL.Image.Image image mode=RGB size=128x62>"
            ],
            "image/png": "[encoded data removed]"
          },
          "metadata": {},
          "execution_count": 60
        }
      ]
    },
    {
      "cell_type": "code",
      "source": [
        "model.predict(img_path / \"unlabeled_5.png\")"
      ],
      "metadata": {
        "colab": {
          "base_uri": "https://localhost:8080/",
          "height": 139
        },
        "id": "5RjgzY2lNxIS",
        "outputId": "443ece90-df8d-4a3d-c81e-b9d0c14db05c"
      },
      "execution_count": null,
      "outputs": [
        {
          "output_type": "display_data",
          "data": {
            "text/plain": [
              "<IPython.core.display.HTML object>"
            ],
            "text/html": [
              "\n",
              "<style>\n",
              "    /* Turns off some styling */\n",
              "    progress {\n",
              "        /* gets rid of default border in Firefox and Opera. */\n",
              "        border: none;\n",
              "        /* Needs to be in here for Safari polyfill so background images work as expected. */\n",
              "        background-size: auto;\n",
              "    }\n",
              "    progress:not([value]), progress:not([value])::-webkit-progress-bar {\n",
              "        background: repeating-linear-gradient(45deg, #7e7e7e, #7e7e7e 10px, #5c5c5c 10px, #5c5c5c 20px);\n",
              "    }\n",
              "    .progress-bar-interrupted, .progress-bar-interrupted::-webkit-progress-bar {\n",
              "        background: #F44336;\n",
              "    }\n",
              "</style>\n"
            ]
          },
          "metadata": {}
        },
        {
          "output_type": "display_data",
          "data": {
            "text/plain": [
              "<IPython.core.display.HTML object>"
            ],
            "text/html": []
          },
          "metadata": {}
        },
        {
          "output_type": "execute_result",
          "data": {
            "text/plain": [
              "('timeline chart',\n",
              " tensor(26),\n",
              " tensor([6.6944e-03, 4.7921e-03, 3.1215e-04, 3.6256e-04, 1.7751e-03, 1.2651e-02,\n",
              "         3.6876e-04, 3.4804e-03, 8.0812e-03, 1.4885e-03, 1.4500e-04, 2.4295e-02,\n",
              "         2.0510e-03, 5.3447e-04, 3.7051e-04, 5.8600e-04, 5.4766e-03, 1.4440e-03,\n",
              "         8.4814e-04, 7.1476e-03, 3.8498e-03, 3.3937e-03, 3.0105e-03, 8.7594e-03,\n",
              "         3.8012e-04, 1.4282e-04, 8.9392e-01, 3.6389e-03]))"
            ]
          },
          "metadata": {},
          "execution_count": 61
        }
      ]
    },
    {
      "cell_type": "code",
      "source": [
        "img = Image.open(img_path / \"unlabeled_6.jpg\")\n",
        "img.to_thumb(128, 128)"
      ],
      "metadata": {
        "colab": {
          "base_uri": "https://localhost:8080/",
          "height": 113
        },
        "id": "j1qp1VdTN1Q2",
        "outputId": "68f848e4-7a66-4b55-adb9-a936ebfb36c1"
      },
      "execution_count": null,
      "outputs": [
        {
          "output_type": "execute_result",
          "data": {
            "text/plain": [
              "<PIL.Image.Image image mode=RGB size=128x96>"
            ],
            "image/png": "[encoded data removed]"
          },
          "metadata": {},
          "execution_count": 62
        }
      ]
    },
    {
      "cell_type": "code",
      "source": [
        "model.predict(img_path / \"unlabeled_6.jpg\")"
      ],
      "metadata": {
        "colab": {
          "base_uri": "https://localhost:8080/",
          "height": 139
        },
        "id": "h3IE6InfN7jO",
        "outputId": "b683983f-2882-48a5-88c5-94f6db25f931"
      },
      "execution_count": null,
      "outputs": [
        {
          "output_type": "display_data",
          "data": {
            "text/plain": [
              "<IPython.core.display.HTML object>"
            ],
            "text/html": [
              "\n",
              "<style>\n",
              "    /* Turns off some styling */\n",
              "    progress {\n",
              "        /* gets rid of default border in Firefox and Opera. */\n",
              "        border: none;\n",
              "        /* Needs to be in here for Safari polyfill so background images work as expected. */\n",
              "        background-size: auto;\n",
              "    }\n",
              "    progress:not([value]), progress:not([value])::-webkit-progress-bar {\n",
              "        background: repeating-linear-gradient(45deg, #7e7e7e, #7e7e7e 10px, #5c5c5c 10px, #5c5c5c 20px);\n",
              "    }\n",
              "    .progress-bar-interrupted, .progress-bar-interrupted::-webkit-progress-bar {\n",
              "        background: #F44336;\n",
              "    }\n",
              "</style>\n"
            ]
          },
          "metadata": {}
        },
        {
          "output_type": "display_data",
          "data": {
            "text/plain": [
              "<IPython.core.display.HTML object>"
            ],
            "text/html": []
          },
          "metadata": {}
        },
        {
          "output_type": "execute_result",
          "data": {
            "text/plain": [
              "('bar chart',\n",
              " tensor(2),\n",
              " tensor([1.0718e-03, 2.2281e-03, 6.4798e-01, 2.0901e-05, 2.1332e-03, 8.5497e-05,\n",
              "         2.5097e-05, 7.3987e-04, 4.6944e-03, 2.6459e-05, 9.1911e-04, 4.8348e-03,\n",
              "         4.6540e-05, 3.2666e-01, 1.3785e-04, 3.1347e-04, 3.7737e-05, 4.8789e-05,\n",
              "         4.3946e-04, 2.2685e-05, 1.0318e-04, 4.0391e-05, 6.2953e-06, 1.2756e-03,\n",
              "         1.6586e-03, 2.0815e-03, 2.3153e-03, 4.6179e-05]))"
            ]
          },
          "metadata": {},
          "execution_count": 63
        }
      ]
    },
    {
      "cell_type": "code",
      "source": [],
      "metadata": {
        "id": "HBNVodffOEZO"
      },
      "execution_count": null,
      "outputs": []
    }
  ]
}